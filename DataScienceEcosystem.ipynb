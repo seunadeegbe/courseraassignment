{
 "cells": [
  {
   "cell_type": "markdown",
   "metadata": {},
   "source": [
    "<center>\n",
    "    <img src=\"https://cf-courses-data.s3.us.cloud-object-storage.appdomain.cloud/IBMDeveloperSkillsNetwork-DS0105EN-SkillsNetwork/labs/Module2/images/SN_web_lightmode.png\" width=\"300\" alt=\"cognitiveclass.ai logo\">\n",
    "</center>\n"
   ]
  },
  {
   "cell_type": "markdown",
   "metadata": {},
   "source": [
    "# Data Science Tools and Ecosystem"
   ]
  },
  {
   "cell_type": "markdown",
   "metadata": {
    "tags": []
   },
   "source": [
    "## In this notebook, Data Science Tools and Ecosystem are summarized."
   ]
  },
  {
   "cell_type": "markdown",
   "metadata": {
    "tags": []
   },
   "source": [
    "**Objectives:**\n",
    "\n",
    "- List popular languages for Data Science.\n",
    "- Highlight commonly used libraries in Data Science.\n",
    "- Introduce arithmetic expression examples in Python.\n",
    "- Provide examples of converting time units in Python.\n",
    "- Present a summary of essential Data Science tools and their roles in the field.\n"
   ]
  },
  {
   "cell_type": "markdown",
   "metadata": {
    "tags": []
   },
   "source": [
    "## Some of the popular languages that Data Scientists use are:\n",
    "\n",
    "1. **Python:** Python is one of the most widely used languages in the field of data science. Its extensive ecosystem of libraries and frameworks, such as NumPy, Pandas, Matplotlib, and scikit-learn, make it a versatile choice for data manipulation, analysis, visualization, and machine learning.\n",
    "\n",
    "2. **R:** R is another popular language among data scientists, particularly for statistical analysis and data visualization. It provides a rich set of packages like ggplot2 and dplyr that cater specifically to data manipulation and exploration tasks.\n",
    "\n",
    "3. **SQL:** While not a general-purpose programming language, SQL (Structured Query Language) is crucial for working with databases. Data scientists often use SQL to retrieve, manipulate, and analyze data stored in relational databases efficiently.\n",
    "\n",
    "4. **Julia:** Julia is gaining popularity in the data science community due to its high performance and simplicity. It's designed for numerical and scientific computing and offers features that are similar to both Python and R.\n"
   ]
  },
  {
   "cell_type": "markdown",
   "metadata": {},
   "source": [
    "## Some of the commonly used libraries used by Data Scientists include:\n",
    "\n",
    "1. **NumPy:** NumPy is a fundamental library for numerical computations in Python. It provides support for large, multi-dimensional arrays and matrices, along with a wide range of mathematical functions to operate on these arrays.\n",
    "\n",
    "2. **Pandas:** Pandas is a versatile library for data manipulation and analysis. It introduces data structures like DataFrame and Series, which allow efficient data manipulation, cleaning, transformation, and exploration.\n",
    "\n",
    "3. **Matplotlib:** Matplotlib is a widely used plotting library in Python. It provides a flexible and comprehensive toolkit for creating various types of visualizations, from basic line plots to complex interactive visualizations.\n",
    "\n",
    "4. **scikit-learn:** scikit-learn is a machine learning library that provides simple and efficient tools for data mining and data analysis. It includes a wide variety of algorithms for classification, regression, clustering, dimensionality reduction, and more.\n",
    "\n",
    "5. **TensorFlow:** TensorFlow is an open-source machine learning framework developed by Google. It's known for its flexibility and scalability in building and training various types of neural networks, including deep learning models.\n",
    "\n"
   ]
  },
  {
   "cell_type": "markdown",
   "metadata": {},
   "source": [
    "| Data Science Tools |\n",
    "|-------------------|\n",
    "| Jupyter Notebook  |\n",
    "| RStudio           |\n",
    "| Visual Studio Code|\n"
   ]
  },
  {
   "cell_type": "markdown",
   "metadata": {},
   "source": [
    "### Below are a few examples of evaluating arithmetic expressions in Python\n",
    "\n",
    "Arithmetic expressions are fundamental in programming and data science. Python provides a simple and intuitive way to perform various arithmetic operations. Here are some examples:\n",
    "\n",
    "1. **Addition:**\n",
    "    result = 5 + 3\n",
    "    # Output: 8\n",
    "   \n",
    "2. **Subtraction:**\n",
    "    result = 10 - 2\n",
    "    # Output: 8\n",
    "\n"
   ]
  },
  {
   "cell_type": "code",
   "execution_count": 40,
   "metadata": {
    "tags": []
   },
   "outputs": [
    {
     "data": {
      "text/plain": [
       "17"
      ]
     },
     "execution_count": 40,
     "metadata": {},
     "output_type": "execute_result"
    }
   ],
   "source": [
    "# This is a simple arithmetic expression to multiply then add integers.\n",
    "result = (3 * 4) + 5\n",
    "result  \n"
   ]
  },
  {
   "cell_type": "code",
   "execution_count": 41,
   "metadata": {
    "tags": []
   },
   "outputs": [
    {
     "data": {
      "text/plain": [
       "3.3333333333333335"
      ]
     },
     "execution_count": 41,
     "metadata": {},
     "output_type": "execute_result"
    }
   ],
   "source": [
    "# This will convert 200 minutes to hours by dividing by 60.\n",
    "minutes = 200\n",
    "hours = minutes / 60\n",
    "hours  # The result will be the equivalent hours\n",
    "\n"
   ]
  },
  {
   "cell_type": "markdown",
   "metadata": {},
   "source": [
    "## Author\n",
    "Adeseun Adeegbe"
   ]
  }
 ],
 "metadata": {
  "kernelspec": {
   "display_name": "Python",
   "language": "python",
   "name": "conda-env-python-py"
  },
  "language_info": {
   "codemirror_mode": {
    "name": "ipython",
    "version": 3
   },
   "file_extension": ".py",
   "mimetype": "text/x-python",
   "name": "python",
   "nbconvert_exporter": "python",
   "pygments_lexer": "ipython3",
   "version": "3.7.12"
  }
 },
 "nbformat": 4,
 "nbformat_minor": 4
}
